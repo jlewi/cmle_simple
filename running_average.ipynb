{
 "cells": [
  {
   "cell_type": "markdown",
   "metadata": {},
   "source": [
    "## Setup"
   ]
  },
  {
   "cell_type": "code",
   "execution_count": 16,
   "metadata": {
    "collapsed": true
   },
   "outputs": [],
   "source": [
    "import datetime\n",
    "import logging\n",
    "import os\n",
    "import subprocess\n",
    "import time\n",
    "import google.cloud.storage as gcs\n",
    "\n",
    "BUCKET=\"dataflow-jlewi-cloud-ml\"\n",
    "PROJECT=\"dataflow-jlewi\"\n",
    "logging.getLogger().setLevel(logging.INFO)"
   ]
  },
  {
   "cell_type": "markdown",
   "metadata": {},
   "source": [
    "## Create Training Data"
   ]
  },
  {
   "cell_type": "code",
   "execution_count": null,
   "metadata": {
    "collapsed": false
   },
   "outputs": [],
   "source": [
    "# Make sure you're logged in and have credentials\n",
    "command = [\"python\", \"-m\", \"running_average.create_training_data\",\n",
    "           \"--output_path=gs://{0}/running_average/inputs.tfrecord\".format(BUCKET)]\n",
    "\n",
    "output = subprocess.check_output(command,stderr=subprocess.STDOUT)\n",
    "print output"
   ]
  },
  {
   "cell_type": "markdown",
   "metadata": {},
   "source": [
    "## Submit Training Job"
   ]
  },
  {
   "cell_type": "code",
   "execution_count": 21,
   "metadata": {
    "collapsed": false
   },
   "outputs": [
    {
     "name": "stderr",
     "output_type": "stream",
     "text": [
      "INFO:root:Setup file: /content/datalab/home/git_cmle_simple/setup.py\n",
      "INFO:root:Found packages: ['/tmp/tmp0zExRH/running_average-0.1.1.tar.gz']\n",
      "INFO:oauth2client.client:Attempting refresh to obtain initial access_token\n",
      "INFO:oauth2client.client:Refreshing access_token\n",
      "INFO:root:Copying /tmp/tmp0zExRH/running_average-0.1.1.tar.gz to gs://dataflow-jlewi-cloud-ml/running_average/20170826_182755/output/results/staging/running_average-0.1.1.tar.gz\n",
      "INFO:googleapiclient.discovery:URL being requested: POST https://ml.googleapis.com/v1/projects/dataflow-jlewi/jobs?alt=json\n",
      "INFO:oauth2client.client:Attempting refresh to obtain initial access_token\n",
      "INFO:oauth2client.client:Refreshing access_token\n",
      "INFO:root:Set response:\n",
      "{\n",
      "  \"createTime\": \"2017-08-26T18:27:57Z\",\n",
      "  \"jobId\": \"running_average_20170826_182755\",\n",
      "  \"state\": \"QUEUED\",\n",
      "  \"trainingInput\": {\n",
      "    \"args\": [\n",
      "      \"--train_data_path=gs://dataflow-jlewi-cloud-ml/running_average/inputs.tfrecord\",\n",
      "      \"--output_path=gs://dataflow-jlewi-cloud-ml/running_average/20170826_182755/output/results\"\n",
      "    ],\n",
      "    \"packageUris\": [\n",
      "      \"gs://dataflow-jlewi-cloud-ml/running_average/20170826_182755/output/results/staging/running_average-0.1.1.tar.gz\"\n",
      "    ],\n",
      "    \"pythonModule\": \"running_average.running_average_main\",\n",
      "    \"region\": \"us-central1\",\n",
      "    \"runtimeVersion\": \"1.2\",\n",
      "    \"scaleTier\": \"STANDARD_1\"\n",
      "  },\n",
      "  \"trainingOutput\": {}\n",
      "}\n"
     ]
    }
   ],
   "source": [
    "from running_average import submit_training_job\n",
    "reload(submit_training_job)\n",
    "now = datetime.datetime.now()\n",
    "datestamp = now.strftime(\"%Y%m%d_%H%M%S\")\n",
    "job_name=\"running_average_{0}\".format(datestamp)\n",
    "output_path = \"gs://{0}/running_average/{1}/output/results\".format(BUCKET, datestamp)\n",
    "main_args = [\"--train_data_path=gs://{0}/running_average/inputs.tfrecord\".format(BUCKET)]\n",
    "final_job = submit_training_job.submit_job(job_name, main_args, output_path, PROJECT)"
   ]
  },
  {
   "cell_type": "markdown",
   "metadata": {},
   "source": [
    "## Save Model For Serving"
   ]
  },
  {
   "cell_type": "code",
   "execution_count": 24,
   "metadata": {
    "collapsed": false
   },
   "outputs": [
    {
     "name": "stderr",
     "output_type": "stream",
     "text": [
      "INFO:root:Exporting the model to gs://dataflow-jlewi-cloud-ml/running_average/20170826_182755/saved_model\n",
      "INFO:root:Restoring weights from: gs://dataflow-jlewi-cloud-ml/running_average/20170826_182755/output/results/save_dir-5\n"
     ]
    },
    {
     "name": "stdout",
     "output_type": "stream",
     "text": [
      "INFO:tensorflow:Restoring parameters from gs://dataflow-jlewi-cloud-ml/running_average/20170826_182755/output/results/save_dir-5\n"
     ]
    },
    {
     "name": "stderr",
     "output_type": "stream",
     "text": [
      "INFO:tensorflow:Restoring parameters from gs://dataflow-jlewi-cloud-ml/running_average/20170826_182755/output/results/save_dir-5\n",
      "INFO:root:inputs: ParseExample/ParseExample:0\n"
     ]
    },
    {
     "name": "stdout",
     "output_type": "stream",
     "text": [
      "INFO:tensorflow:No assets to save.\n"
     ]
    },
    {
     "name": "stderr",
     "output_type": "stream",
     "text": [
      "INFO:tensorflow:No assets to save.\n"
     ]
    },
    {
     "name": "stdout",
     "output_type": "stream",
     "text": [
      "INFO:tensorflow:No assets to write.\n"
     ]
    },
    {
     "name": "stderr",
     "output_type": "stream",
     "text": [
      "INFO:tensorflow:No assets to write.\n"
     ]
    },
    {
     "name": "stdout",
     "output_type": "stream",
     "text": [
      "INFO:tensorflow:SavedModel written to: gs://dataflow-jlewi-cloud-ml/running_average/20170826_182755/saved_model/saved_model.pb\n"
     ]
    },
    {
     "name": "stderr",
     "output_type": "stream",
     "text": [
      "INFO:tensorflow:SavedModel written to: gs://dataflow-jlewi-cloud-ml/running_average/20170826_182755/saved_model/saved_model.pb\n"
     ]
    }
   ],
   "source": [
    "from running_average import build_saved_model\n",
    "reload(build_saved_model)\n",
    "saved_model = \"gs://{0}/running_average/{1}/saved_model\".format(BUCKET, datestamp)\n",
    "build_saved_model.save_model(output_path, saved_model)"
   ]
  }
 ],
 "metadata": {
  "kernelspec": {
   "display_name": "Python 2",
   "language": "python",
   "name": "python2"
  },
  "language_info": {
   "codemirror_mode": {
    "name": "ipython",
    "version": 2
   },
   "file_extension": ".py",
   "mimetype": "text/x-python",
   "name": "python",
   "nbconvert_exporter": "python",
   "pygments_lexer": "ipython2",
   "version": "2.7.12"
  }
 },
 "nbformat": 4,
 "nbformat_minor": 1
}
