{
 "cells": [
  {
   "cell_type": "markdown",
   "metadata": {},
   "source": [
    "## Setup"
   ]
  },
  {
   "cell_type": "code",
   "execution_count": 33,
   "metadata": {
    "collapsed": false
   },
   "outputs": [
    {
     "name": "stderr",
     "output_type": "stream",
     "text": [
      "WARNING:google.auth._default:No project ID could be determined from the Cloud SDK configuration. Consider running `gcloud config set project` or setting the GOOGLE_CLOUD_PROJECT environment variable\n"
     ]
    }
   ],
   "source": [
    "import datetime\n",
    "import logging\n",
    "import os\n",
    "import subprocess\n",
    "import time\n",
    "import google.cloud.storage as gcs\n",
    "\n",
    "from googleapiclient import discovery\n",
    "from googleapiclient import errors\n",
    "from googleapiclient import http\n",
    "\n",
    "BUCKET=\"dataflow-jlewi-cloud-ml\"\n",
    "PROJECT=\"dataflow-jlewi\"\n",
    "logging.getLogger().setLevel(logging.INFO)\n",
    "\n",
    "cloudml = discovery.build(\n",
    "      'ml',\n",
    "      'v1',\n",
    "      requestBuilder=http.HttpRequest)\n"
   ]
  },
  {
   "cell_type": "markdown",
   "metadata": {},
   "source": [
    "## Create Training Data"
   ]
  },
  {
   "cell_type": "code",
   "execution_count": null,
   "metadata": {
    "collapsed": false
   },
   "outputs": [],
   "source": [
    "# Make sure you're logged in and have credentials\n",
    "command = [\"python\", \"-m\", \"running_average.create_training_data\",\n",
    "           \"--output_path=gs://{0}/running_average/inputs.tfrecord\".format(BUCKET)]\n",
    "\n",
    "output = subprocess.check_output(command,stderr=subprocess.STDOUT)\n",
    "print output"
   ]
  },
  {
   "cell_type": "markdown",
   "metadata": {},
   "source": [
    "## Submit Training Job"
   ]
  },
  {
   "cell_type": "code",
   "execution_count": 21,
   "metadata": {
    "collapsed": false
   },
   "outputs": [
    {
     "name": "stderr",
     "output_type": "stream",
     "text": [
      "INFO:root:Setup file: /content/datalab/home/git_cmle_simple/setup.py\n",
      "INFO:root:Found packages: ['/tmp/tmp0zExRH/running_average-0.1.1.tar.gz']\n",
      "INFO:oauth2client.client:Attempting refresh to obtain initial access_token\n",
      "INFO:oauth2client.client:Refreshing access_token\n",
      "INFO:root:Copying /tmp/tmp0zExRH/running_average-0.1.1.tar.gz to gs://dataflow-jlewi-cloud-ml/running_average/20170826_182755/output/results/staging/running_average-0.1.1.tar.gz\n",
      "INFO:googleapiclient.discovery:URL being requested: POST https://ml.googleapis.com/v1/projects/dataflow-jlewi/jobs?alt=json\n",
      "INFO:oauth2client.client:Attempting refresh to obtain initial access_token\n",
      "INFO:oauth2client.client:Refreshing access_token\n",
      "INFO:root:Set response:\n",
      "{\n",
      "  \"createTime\": \"2017-08-26T18:27:57Z\",\n",
      "  \"jobId\": \"running_average_20170826_182755\",\n",
      "  \"state\": \"QUEUED\",\n",
      "  \"trainingInput\": {\n",
      "    \"args\": [\n",
      "      \"--train_data_path=gs://dataflow-jlewi-cloud-ml/running_average/inputs.tfrecord\",\n",
      "      \"--output_path=gs://dataflow-jlewi-cloud-ml/running_average/20170826_182755/output/results\"\n",
      "    ],\n",
      "    \"packageUris\": [\n",
      "      \"gs://dataflow-jlewi-cloud-ml/running_average/20170826_182755/output/results/staging/running_average-0.1.1.tar.gz\"\n",
      "    ],\n",
      "    \"pythonModule\": \"running_average.running_average_main\",\n",
      "    \"region\": \"us-central1\",\n",
      "    \"runtimeVersion\": \"1.2\",\n",
      "    \"scaleTier\": \"STANDARD_1\"\n",
      "  },\n",
      "  \"trainingOutput\": {}\n",
      "}\n"
     ]
    }
   ],
   "source": [
    "from running_average import submit_training_job\n",
    "reload(submit_training_job)\n",
    "now = datetime.datetime.now()\n",
    "datestamp = now.strftime(\"%Y%m%d_%H%M%S\")\n",
    "job_name=\"running_average_{0}\".format(datestamp)\n",
    "output_path = \"gs://{0}/running_average/{1}/output/results\".format(BUCKET, datestamp)\n",
    "main_args = [\"--train_data_path=gs://{0}/running_average/inputs.tfrecord\".format(BUCKET)]\n",
    "final_job = submit_training_job.submit_job(job_name, main_args, output_path, PROJECT)"
   ]
  },
  {
   "cell_type": "markdown",
   "metadata": {},
   "source": [
    "## Save Model For Serving"
   ]
  },
  {
   "cell_type": "code",
   "execution_count": 24,
   "metadata": {
    "collapsed": false
   },
   "outputs": [
    {
     "name": "stderr",
     "output_type": "stream",
     "text": [
      "INFO:root:Exporting the model to gs://dataflow-jlewi-cloud-ml/running_average/20170826_182755/saved_model\n",
      "INFO:root:Restoring weights from: gs://dataflow-jlewi-cloud-ml/running_average/20170826_182755/output/results/save_dir-5\n"
     ]
    },
    {
     "name": "stdout",
     "output_type": "stream",
     "text": [
      "INFO:tensorflow:Restoring parameters from gs://dataflow-jlewi-cloud-ml/running_average/20170826_182755/output/results/save_dir-5\n"
     ]
    },
    {
     "name": "stderr",
     "output_type": "stream",
     "text": [
      "INFO:tensorflow:Restoring parameters from gs://dataflow-jlewi-cloud-ml/running_average/20170826_182755/output/results/save_dir-5\n",
      "INFO:root:inputs: ParseExample/ParseExample:0\n"
     ]
    },
    {
     "name": "stdout",
     "output_type": "stream",
     "text": [
      "INFO:tensorflow:No assets to save.\n"
     ]
    },
    {
     "name": "stderr",
     "output_type": "stream",
     "text": [
      "INFO:tensorflow:No assets to save.\n"
     ]
    },
    {
     "name": "stdout",
     "output_type": "stream",
     "text": [
      "INFO:tensorflow:No assets to write.\n"
     ]
    },
    {
     "name": "stderr",
     "output_type": "stream",
     "text": [
      "INFO:tensorflow:No assets to write.\n"
     ]
    },
    {
     "name": "stdout",
     "output_type": "stream",
     "text": [
      "INFO:tensorflow:SavedModel written to: gs://dataflow-jlewi-cloud-ml/running_average/20170826_182755/saved_model/saved_model.pb\n"
     ]
    },
    {
     "name": "stderr",
     "output_type": "stream",
     "text": [
      "INFO:tensorflow:SavedModel written to: gs://dataflow-jlewi-cloud-ml/running_average/20170826_182755/saved_model/saved_model.pb\n"
     ]
    }
   ],
   "source": [
    "from running_average import build_saved_model\n",
    "reload(build_saved_model)\n",
    "saved_model = \"gs://{0}/running_average/{1}/saved_model\".format(BUCKET, datestamp)\n",
    "build_saved_model.save_model(output_path, saved_model)"
   ]
  },
  {
   "cell_type": "markdown",
   "metadata": {},
   "source": [
    "## Deploy the model"
   ]
  },
  {
   "cell_type": "code",
   "execution_count": 32,
   "metadata": {
    "collapsed": false
   },
   "outputs": [
    {
     "name": "stderr",
     "output_type": "stream",
     "text": [
      "WARNING:google.auth._default:No project ID could be determined from the Cloud SDK configuration. Consider running `gcloud config set project` or setting the GOOGLE_CLOUD_PROJECT environment variable\n",
      "INFO:googleapiclient.discovery:URL being requested: POST https://ml.googleapis.com/v1/projects/dataflow-jlewi/models?alt=json\n",
      "INFO:root:Model simple_cmle already exists.\n",
      "INFO:googleapiclient.discovery:URL being requested: POST https://ml.googleapis.com/v1/projects/dataflow-jlewi/models/simple_cmle/versions?alt=json\n",
      "INFO:root:Set response:\n",
      "{\n",
      "  \"metadata\": {\n",
      "    \"@type\": \"type.googleapis.com/google.cloud.ml.v1.OperationMetadata\",\n",
      "    \"createTime\": \"2017-08-26T23:23:26Z\",\n",
      "    \"modelName\": \"projects/dataflow-jlewi/models/simple_cmle\",\n",
      "    \"operationType\": \"CREATE_VERSION\",\n",
      "    \"version\": {\n",
      "      \"createTime\": \"2017-08-26T23:23:26Z\",\n",
      "      \"deploymentUri\": \"gs://dataflow-jlewi-cloud-ml/running_average/20170826_182755/saved_model\",\n",
      "      \"etag\": \"RodNWVB0IDY=\",\n",
      "      \"name\": \"projects/dataflow-jlewi/models/simple_cmle/versions/v20170826_232324\",\n",
      "      \"state\": \"CREATING\"\n",
      "    }\n",
      "  },\n",
      "  \"name\": \"projects/dataflow-jlewi/operations/create_simple_cmle_v20170826_232324-1503789806819\"\n",
      "}\n"
     ]
    }
   ],
   "source": [
    "endpoint = None\n",
    "model_name = \"simple_cmle\"\n",
    "model_path = \"gs://dataflow-jlewi-cloud-ml/running_average/20170826_182755/saved_model\"\n",
    "\n",
    "now = datetime.datetime.now()\n",
    "datestamp = now.strftime(\"%Y%m%d_%H%M%S\")\n",
    "model_version = 'v' + datestamp\n",
    "\n",
    "deploy_model.deploy(PROJECT, model_path, model_name, model_version)\n"
   ]
  },
  {
   "cell_type": "markdown",
   "metadata": {},
   "source": [
    "## Send some predictions"
   ]
  },
  {
   "cell_type": "code",
   "execution_count": 35,
   "metadata": {
    "collapsed": false
   },
   "outputs": [
    {
     "name": "stdout",
     "output_type": "stream",
     "text": [
      "Help on method method in module googleapiclient.discovery:\n",
      "\n",
      "method(self, **kwargs) method of googleapiclient.discovery.Resource instance\n",
      "    Performs prediction on the data in the request.\n",
      "    \n",
      "    **** REMOVE FROM GENERATED DOCUMENTATION\n",
      "    \n",
      "    Args:\n",
      "      name: string, Required. The resource name of a model or a version.\n",
      "    \n",
      "    Authorization: requires the `predict` permission on the specified resource. (required)\n",
      "      body: object, The request body. (required)\n",
      "        The object takes the form of:\n",
      "    \n",
      "    { # Request for predictions to be issued against a trained model.\n",
      "          # \n",
      "          # The body of the request is a single JSON object with a single top-level\n",
      "          # field:\n",
      "          # \n",
      "          # <dl>\n",
      "          #   <dt>instances</dt>\n",
      "          #   <dd>A JSON array containing values representing the instances to use for\n",
      "          #       prediction.</dd>\n",
      "          # </dl>\n",
      "          # \n",
      "          # The structure of each element of the instances list is determined by your\n",
      "          # model's input definition. Instances can include named inputs or can contain\n",
      "          # only unlabeled values.\n",
      "          # \n",
      "          # Not all data includes named inputs. Some instances will be simple\n",
      "          # JSON values (boolean, number, or string). However, instances are often lists\n",
      "          # of simple values, or complex nested lists. Here are some examples of request\n",
      "          # bodies:\n",
      "          # \n",
      "          # CSV data with each row encoded as a string value:\n",
      "          # <pre>\n",
      "          # {\"instances\": [\"1.0,true,\\\\\"x\\\\\"\", \"-2.0,false,\\\\\"y\\\\\"\"]}\n",
      "          # </pre>\n",
      "          # Plain text:\n",
      "          # <pre>\n",
      "          # {\"instances\": [\"the quick brown fox\", \"la bruja le dio\"]}\n",
      "          # </pre>\n",
      "          # Sentences encoded as lists of words (vectors of strings):\n",
      "          # <pre>\n",
      "          # {\n",
      "          #   \"instances\": [\n",
      "          #     [\"the\",\"quick\",\"brown\"],\n",
      "          #     [\"la\",\"bruja\",\"le\"],\n",
      "          #     ...\n",
      "          #   ]\n",
      "          # }\n",
      "          # </pre>\n",
      "          # Floating point scalar values:\n",
      "          # <pre>\n",
      "          # {\"instances\": [0.0, 1.1, 2.2]}\n",
      "          # </pre>\n",
      "          # Vectors of integers:\n",
      "          # <pre>\n",
      "          # {\n",
      "          #   \"instances\": [\n",
      "          #     [0, 1, 2],\n",
      "          #     [3, 4, 5],\n",
      "          #     ...\n",
      "          #   ]\n",
      "          # }\n",
      "          # </pre>\n",
      "          # Tensors (in this case, two-dimensional tensors):\n",
      "          # <pre>\n",
      "          # {\n",
      "          #   \"instances\": [\n",
      "          #     [\n",
      "          #       [0, 1, 2],\n",
      "          #       [3, 4, 5]\n",
      "          #     ],\n",
      "          #     ...\n",
      "          #   ]\n",
      "          # }\n",
      "          # </pre>\n",
      "          # Images can be represented different ways. In this encoding scheme the first\n",
      "          # two dimensions represent the rows and columns of the image, and the third\n",
      "          # contains lists (vectors) of the R, G, and B values for each pixel.\n",
      "          # <pre>\n",
      "          # {\n",
      "          #   \"instances\": [\n",
      "          #     [\n",
      "          #       [\n",
      "          #         [138, 30, 66],\n",
      "          #         [130, 20, 56],\n",
      "          #         ...\n",
      "          #       ],\n",
      "          #       [\n",
      "          #         [126, 38, 61],\n",
      "          #         [122, 24, 57],\n",
      "          #         ...\n",
      "          #       ],\n",
      "          #       ...\n",
      "          #     ],\n",
      "          #     ...\n",
      "          #   ]\n",
      "          # }\n",
      "          # </pre>\n",
      "          # JSON strings must be encoded as UTF-8. To send binary data, you must\n",
      "          # base64-encode the data and mark it as binary. To mark a JSON string\n",
      "          # as binary, replace it with a JSON object with a single attribute named `b64`:\n",
      "          # <pre>{\"b64\": \"...\"} </pre>\n",
      "          # For example:\n",
      "          # \n",
      "          # Two Serialized tf.Examples (fake data, for illustrative purposes only):\n",
      "          # <pre>\n",
      "          # {\"instances\": [{\"b64\": \"X5ad6u\"}, {\"b64\": \"IA9j4nx\"}]}\n",
      "          # </pre>\n",
      "          # Two JPEG image byte strings (fake data, for illustrative purposes only):\n",
      "          # <pre>\n",
      "          # {\"instances\": [{\"b64\": \"ASa8asdf\"}, {\"b64\": \"JLK7ljk3\"}]}\n",
      "          # </pre>\n",
      "          # If your data includes named references, format each instance as a JSON object\n",
      "          # with the named references as the keys:\n",
      "          # \n",
      "          # JSON input data to be preprocessed:\n",
      "          # <pre>\n",
      "          # {\n",
      "          #   \"instances\": [\n",
      "          #     {\n",
      "          #       \"a\": 1.0,\n",
      "          #       \"b\": true,\n",
      "          #       \"c\": \"x\"\n",
      "          #     },\n",
      "          #     {\n",
      "          #       \"a\": -2.0,\n",
      "          #       \"b\": false,\n",
      "          #       \"c\": \"y\"\n",
      "          #     }\n",
      "          #   ]\n",
      "          # }\n",
      "          # </pre>\n",
      "          # Some models have an underlying TensorFlow graph that accepts multiple input\n",
      "          # tensors. In this case, you should use the names of JSON name/value pairs to\n",
      "          # identify the input tensors, as shown in the following exmaples:\n",
      "          # \n",
      "          # For a graph with input tensor aliases \"tag\" (string) and \"image\"\n",
      "          # (base64-encoded string):\n",
      "          # <pre>\n",
      "          # {\n",
      "          #   \"instances\": [\n",
      "          #     {\n",
      "          #       \"tag\": \"beach\",\n",
      "          #       \"image\": {\"b64\": \"ASa8asdf\"}\n",
      "          #     },\n",
      "          #     {\n",
      "          #       \"tag\": \"car\",\n",
      "          #       \"image\": {\"b64\": \"JLK7ljk3\"}\n",
      "          #     }\n",
      "          #   ]\n",
      "          # }\n",
      "          # </pre>\n",
      "          # For a graph with input tensor aliases \"tag\" (string) and \"image\"\n",
      "          # (3-dimensional array of 8-bit ints):\n",
      "          # <pre>\n",
      "          # {\n",
      "          #   \"instances\": [\n",
      "          #     {\n",
      "          #       \"tag\": \"beach\",\n",
      "          #       \"image\": [\n",
      "          #         [\n",
      "          #           [138, 30, 66],\n",
      "          #           [130, 20, 56],\n",
      "          #           ...\n",
      "          #         ],\n",
      "          #         [\n",
      "          #           [126, 38, 61],\n",
      "          #           [122, 24, 57],\n",
      "          #           ...\n",
      "          #         ],\n",
      "          #         ...\n",
      "          #       ]\n",
      "          #     },\n",
      "          #     {\n",
      "          #       \"tag\": \"car\",\n",
      "          #       \"image\": [\n",
      "          #         [\n",
      "          #           [255, 0, 102],\n",
      "          #           [255, 0, 97],\n",
      "          #           ...\n",
      "          #         ],\n",
      "          #         [\n",
      "          #           [254, 1, 101],\n",
      "          #           [254, 2, 93],\n",
      "          #           ...\n",
      "          #         ],\n",
      "          #         ...\n",
      "          #       ]\n",
      "          #     },\n",
      "          #     ...\n",
      "          #   ]\n",
      "          # }\n",
      "          # </pre>\n",
      "          # If the call is successful, the response body will contain one prediction\n",
      "          # entry per instance in the request body. If prediction fails for any\n",
      "          # instance, the response body will contain no predictions and will contian\n",
      "          # a single error entry instead.\n",
      "        \"httpBody\": { # Message that represents an arbitrary HTTP body. It should only be used for # \n",
      "            # Required. The prediction request body.\n",
      "            # payload formats that can't be represented as JSON, such as raw binary or\n",
      "            # an HTML page.\n",
      "            #\n",
      "            #\n",
      "            # This message can be used both in streaming and non-streaming API methods in\n",
      "            # the request as well as the response.\n",
      "            #\n",
      "            # It can be used as a top-level request field, which is convenient if one\n",
      "            # wants to extract parameters from either the URL or HTTP template into the\n",
      "            # request fields and also want access to the raw HTTP body.\n",
      "            #\n",
      "            # Example:\n",
      "            #\n",
      "            #     message GetResourceRequest {\n",
      "            #       // A unique request id.\n",
      "            #       string request_id = 1;\n",
      "            #\n",
      "            #       // The raw HTTP body is bound to this field.\n",
      "            #       google.api.HttpBody http_body = 2;\n",
      "            #     }\n",
      "            #\n",
      "            #     service ResourceService {\n",
      "            #       rpc GetResource(GetResourceRequest) returns (google.api.HttpBody);\n",
      "            #       rpc UpdateResource(google.api.HttpBody) returns (google.protobuf.Empty);\n",
      "            #     }\n",
      "            #\n",
      "            # Example with streaming methods:\n",
      "            #\n",
      "            #     service CaldavService {\n",
      "            #       rpc GetCalendar(stream google.api.HttpBody)\n",
      "            #         returns (stream google.api.HttpBody);\n",
      "            #       rpc UpdateCalendar(stream google.api.HttpBody)\n",
      "            #         returns (stream google.api.HttpBody);\n",
      "            #     }\n",
      "            #\n",
      "            # Use of this type only changes how the request and response bodies are\n",
      "            # handled, all other features will continue to work unchanged.\n",
      "          \"contentType\": \"A String\", # The HTTP Content-Type string representing the content type of the body.\n",
      "          \"data\": \"A String\", # HTTP body binary data.\n",
      "          \"extensions\": [ # Application specific response metadata. Must be set in the first response\n",
      "              # for streaming APIs.\n",
      "            {\n",
      "              \"a_key\": \"\", # Properties of the object. Contains field @type with type URL.\n",
      "            },\n",
      "          ],\n",
      "        },\n",
      "      }\n",
      "    \n",
      "      x__xgafv: string, V1 error format.\n",
      "        Allowed values\n",
      "          1 - v1 error format\n",
      "          2 - v2 error format\n",
      "    \n",
      "    Returns:\n",
      "      An object of the form:\n",
      "    \n",
      "        { # Message that represents an arbitrary HTTP body. It should only be used for\n",
      "          # payload formats that can't be represented as JSON, such as raw binary or\n",
      "          # an HTML page.\n",
      "          #\n",
      "          #\n",
      "          # This message can be used both in streaming and non-streaming API methods in\n",
      "          # the request as well as the response.\n",
      "          #\n",
      "          # It can be used as a top-level request field, which is convenient if one\n",
      "          # wants to extract parameters from either the URL or HTTP template into the\n",
      "          # request fields and also want access to the raw HTTP body.\n",
      "          #\n",
      "          # Example:\n",
      "          #\n",
      "          #     message GetResourceRequest {\n",
      "          #       // A unique request id.\n",
      "          #       string request_id = 1;\n",
      "          #\n",
      "          #       // The raw HTTP body is bound to this field.\n",
      "          #       google.api.HttpBody http_body = 2;\n",
      "          #     }\n",
      "          #\n",
      "          #     service ResourceService {\n",
      "          #       rpc GetResource(GetResourceRequest) returns (google.api.HttpBody);\n",
      "          #       rpc UpdateResource(google.api.HttpBody) returns (google.protobuf.Empty);\n",
      "          #     }\n",
      "          #\n",
      "          # Example with streaming methods:\n",
      "          #\n",
      "          #     service CaldavService {\n",
      "          #       rpc GetCalendar(stream google.api.HttpBody)\n",
      "          #         returns (stream google.api.HttpBody);\n",
      "          #       rpc UpdateCalendar(stream google.api.HttpBody)\n",
      "          #         returns (stream google.api.HttpBody);\n",
      "          #     }\n",
      "          #\n",
      "          # Use of this type only changes how the request and response bodies are\n",
      "          # handled, all other features will continue to work unchanged.\n",
      "        \"contentType\": \"A String\", # The HTTP Content-Type string representing the content type of the body.\n",
      "        \"data\": \"A String\", # HTTP body binary data.\n",
      "        \"extensions\": [ # Application specific response metadata. Must be set in the first response\n",
      "            # for streaming APIs.\n",
      "          {\n",
      "            \"a_key\": \"\", # Properties of the object. Contains field @type with type URL.\n",
      "          },\n",
      "        ],\n",
      "      }\n",
      "\n"
     ]
    }
   ],
   "source": [
    "from run\n",
    "projects = cloudml.projects()\n",
    "\n",
    "body = {\n",
    "  'instances' : [\n",
    "    {\n",
    "      'inputs': [10],\n",
    "    }\n",
    "  ],\n",
    "}\n",
    "request = projects.predict(name='projects/{0}/models/{1}/versions/{2}'.format(PROJECT, model_name, model_version),\n",
    "                           body=body)\n",
    "\n",
    "response = request.execute()\n",
    "logging.info('Set response:\\n%s', util.PrettyFormat(response))"
   ]
  }
 ],
 "metadata": {
  "kernelspec": {
   "display_name": "Python 2",
   "language": "python",
   "name": "python2"
  },
  "language_info": {
   "codemirror_mode": {
    "name": "ipython",
    "version": 2
   },
   "file_extension": ".py",
   "mimetype": "text/x-python",
   "name": "python",
   "nbconvert_exporter": "python",
   "pygments_lexer": "ipython2",
   "version": "2.7.12"
  }
 },
 "nbformat": 4,
 "nbformat_minor": 1
}
