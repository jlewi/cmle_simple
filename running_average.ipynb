{
 "cells": [
  {
   "cell_type": "markdown",
   "metadata": {},
   "source": [
    "## Setup"
   ]
  },
  {
   "cell_type": "code",
   "execution_count": 1,
   "metadata": {
    "collapsed": true
   },
   "outputs": [],
   "source": [
    "import datetime\n",
    "import logging\n",
    "import os\n",
    "import subprocess\n",
    "import time\n",
    "BUCKET=\"dataflow-jlewi-cloud-ml\"\n",
    "PROJECT=\"dataflow-jlewi\"\n",
    "logging.getLogger().setLevel(logging.INFO)"
   ]
  },
  {
   "cell_type": "markdown",
   "metadata": {},
   "source": [
    "## Create Training Data"
   ]
  },
  {
   "cell_type": "code",
   "execution_count": 2,
   "metadata": {
    "collapsed": false
   },
   "outputs": [
    {
     "name": "stdout",
     "output_type": "stream",
     "text": [
      "INFO:root:Data written to: gs://dataflow-jlewi-cloud-ml/running_average/inputs.tfrecord\n",
      "\n"
     ]
    }
   ],
   "source": [
    "output = subprocess.check_output([\"python\", \"-m\", \"running_average.create_training_data\",\n",
    "                                  \"--output_path=gs://{0}/running_average/inputs.tfrecord\".format(BUCKET)],\n",
    "                                  stderr=subprocess.STDOUT)\n",
    "print output"
   ]
  },
  {
   "cell_type": "markdown",
   "metadata": {},
   "source": [
    "## Submit Training Job"
   ]
  },
  {
   "cell_type": "code",
   "execution_count": 6,
   "metadata": {
    "collapsed": false
   },
   "outputs": [
    {
     "name": "stderr",
     "output_type": "stream",
     "text": [
      "INFO:root:Setup file: /content/datalab/workspaces/cloud-ml/cloud-ml/running_average/setup.py\n",
      "INFO:root:Found packages: ['/tmp/tmpRl94PU/running_average-0.1.1.tar.gz']\n",
      "INFO:root:Copying /tmp/tmpRl94PU/running_average-0.1.1.tar.gz to gs://dataflow-jlewi-cloud-ml/running_average/20161016_011546/output/results/staging/running_average-0.1.1.tar.gz\n",
      "INFO:oauth2client.client:Attempting refresh to obtain initial access_token\n",
      "INFO:googleapiclient.discovery:URL being requested: POST https://cloudml-jlewi-test.sandbox.googleapis.com/v1beta1/projects/dataflow-jlewi/jobs?alt=json\n",
      "INFO:oauth2client.client:Attempting refresh to obtain initial access_token\n",
      "INFO:root:Set response:\n",
      "{\n",
      "  \"createTime\": \"2016-10-16T01:15:48Z\",\n",
      "  \"jobId\": \"running_average_20161016_011546\",\n",
      "  \"state\": \"QUEUED\",\n",
      "  \"trainingInput\": {\n",
      "    \"args\": [\n",
      "      \"--train_data_path=gs://dataflow-jlewi-cloud-ml/running_average/inputs.tfrecord\",\n",
      "      \"--output_path=gs://dataflow-jlewi-cloud-ml/running_average/20161016_011546/output/results\"\n",
      "    ],\n",
      "    \"packageUris\": [\n",
      "      \"gs://dataflow-jlewi-cloud-ml/running_average/20161016_011546/output/results/staging/running_average-0.1.1.tar.gz\"\n",
      "    ],\n",
      "    \"pythonModule\": \"running_average.running_average_main\",\n",
      "    \"region\": \"us-central1\",\n",
      "    \"scaleTier\": \"STANDARD_1\"\n",
      "  }\n",
      "}\n",
      "INFO:root:Using endpoint: https://ml.googleapis.com/v1beta1\n"
     ]
    },
    {
     "ename": "AttributeError",
     "evalue": "'NoneType' object has no attribute 'get'",
     "output_type": "error",
     "traceback": [
      "\u001b[0;31m\u001b[0m",
      "\u001b[0;31mAttributeError\u001b[0mTraceback (most recent call last)",
      "\u001b[0;32m<ipython-input-6-7ae972c57ce4>\u001b[0m in \u001b[0;36m<module>\u001b[0;34m()\u001b[0m\n\u001b[1;32m      7\u001b[0m \u001b[0mmain_args\u001b[0m \u001b[0;34m=\u001b[0m \u001b[0;34m[\u001b[0m\u001b[0;34m\"--train_data_path=gs://{0}/running_average/inputs.tfrecord\"\u001b[0m\u001b[0;34m.\u001b[0m\u001b[0mformat\u001b[0m\u001b[0;34m(\u001b[0m\u001b[0mBUCKET\u001b[0m\u001b[0;34m)\u001b[0m\u001b[0;34m]\u001b[0m\u001b[0;34m\u001b[0m\u001b[0m\n\u001b[1;32m      8\u001b[0m \u001b[0mendpoint\u001b[0m\u001b[0;34m=\u001b[0m\u001b[0;34m\"https://cloudml-jlewi-test.sandbox.googleapis.com\"\u001b[0m\u001b[0;34m\u001b[0m\u001b[0m\n\u001b[0;32m----> 9\u001b[0;31m \u001b[0mfinal_job\u001b[0m \u001b[0;34m=\u001b[0m \u001b[0msubmit_training_job\u001b[0m\u001b[0;34m.\u001b[0m\u001b[0msubmit_job\u001b[0m\u001b[0;34m(\u001b[0m\u001b[0mjob_name\u001b[0m\u001b[0;34m,\u001b[0m \u001b[0mmain_args\u001b[0m\u001b[0;34m,\u001b[0m \u001b[0moutput_path\u001b[0m\u001b[0;34m,\u001b[0m \u001b[0mPROJECT\u001b[0m\u001b[0;34m,\u001b[0m \u001b[0mendpoint\u001b[0m\u001b[0;34m=\u001b[0m\u001b[0mendpoint\u001b[0m\u001b[0;34m)\u001b[0m\u001b[0;34m\u001b[0m\u001b[0m\n\u001b[0m",
      "\u001b[0;32m/content/datalab/workspaces/cloud-ml/cloud-ml/running_average/running_average/submit_training_job.pyc\u001b[0m in \u001b[0;36msubmit_job\u001b[0;34m(job_name, main_args, output_path, project_id, endpoint)\u001b[0m\n\u001b[1;32m     95\u001b[0m   \u001b[0;31m# Poll the job until its done.\u001b[0m\u001b[0;34m\u001b[0m\u001b[0;34m\u001b[0m\u001b[0m\n\u001b[1;32m     96\u001b[0m   \u001b[0mapi\u001b[0m \u001b[0;34m=\u001b[0m \u001b[0mml_api\u001b[0m\u001b[0;34m.\u001b[0m\u001b[0mApiBeta\u001b[0m\u001b[0;34m(\u001b[0m\u001b[0mcredential\u001b[0m\u001b[0;34m=\u001b[0m\u001b[0mcredentials\u001b[0m\u001b[0;34m,\u001b[0m \u001b[0mproject_id\u001b[0m\u001b[0;34m=\u001b[0m\u001b[0mproject_id\u001b[0m\u001b[0;34m)\u001b[0m\u001b[0;34m\u001b[0m\u001b[0m\n\u001b[0;32m---> 97\u001b[0;31m   \u001b[0mfinal_job\u001b[0m \u001b[0;34m=\u001b[0m \u001b[0mapi\u001b[0m\u001b[0;34m.\u001b[0m\u001b[0mwait_for_job\u001b[0m\u001b[0;34m(\u001b[0m\u001b[0mjob_name\u001b[0m\u001b[0;34m)\u001b[0m\u001b[0;34m\u001b[0m\u001b[0m\n\u001b[0m\u001b[1;32m     98\u001b[0m   \u001b[0mlogging\u001b[0m\u001b[0;34m.\u001b[0m\u001b[0minfo\u001b[0m\u001b[0;34m(\u001b[0m\u001b[0;34m'Job status:\\n %s'\u001b[0m\u001b[0;34m,\u001b[0m \u001b[0mPrettyFormat\u001b[0m\u001b[0;34m(\u001b[0m\u001b[0mfinal_job\u001b[0m\u001b[0;34m)\u001b[0m\u001b[0;34m)\u001b[0m\u001b[0;34m\u001b[0m\u001b[0m\n\u001b[1;32m     99\u001b[0m   \u001b[0;32mif\u001b[0m \u001b[0mfinal_job\u001b[0m\u001b[0;34m[\u001b[0m\u001b[0;34m'state'\u001b[0m\u001b[0;34m]\u001b[0m \u001b[0;32min\u001b[0m \u001b[0;34m[\u001b[0m\u001b[0;34m'RUNNING'\u001b[0m\u001b[0;34m,\u001b[0m \u001b[0;34m'QUEUED'\u001b[0m\u001b[0;34m,\u001b[0m \u001b[0;34m'CANCELLING'\u001b[0m\u001b[0;34m,\u001b[0m \u001b[0;34m'PREPARING'\u001b[0m\u001b[0;34m]\u001b[0m\u001b[0;34m:\u001b[0m\u001b[0;34m\u001b[0m\u001b[0m\n",
      "\u001b[0;32m/usr/local/lib/python2.7/dist-packages/google/cloud/ml/util/_api.pyc\u001b[0m in \u001b[0;36mwait_for_job\u001b[0;34m(self, job_name, timeout, polling_interval)\u001b[0m\n\u001b[1;32m    153\u001b[0m     \u001b[0;32mwhile\u001b[0m \u001b[0mTrue\u001b[0m\u001b[0;34m:\u001b[0m\u001b[0;34m\u001b[0m\u001b[0m\n\u001b[1;32m    154\u001b[0m       \u001b[0mjob\u001b[0m \u001b[0;34m=\u001b[0m \u001b[0mself\u001b[0m\u001b[0;34m.\u001b[0m\u001b[0mget_operation\u001b[0m\u001b[0;34m(\u001b[0m\u001b[0mop_name\u001b[0m\u001b[0;34m)\u001b[0m\u001b[0;34m\u001b[0m\u001b[0m\n\u001b[0;32m--> 155\u001b[0;31m       \u001b[0mstate\u001b[0m \u001b[0;34m=\u001b[0m \u001b[0mjob\u001b[0m\u001b[0;34m.\u001b[0m\u001b[0mget\u001b[0m\u001b[0;34m(\u001b[0m\u001b[0;34m'state'\u001b[0m\u001b[0;34m,\u001b[0m \u001b[0;34m'RUNNING'\u001b[0m\u001b[0;34m)\u001b[0m\u001b[0;34m\u001b[0m\u001b[0m\n\u001b[0m\u001b[1;32m    156\u001b[0m       \u001b[0;32mif\u001b[0m \u001b[0mstate\u001b[0m \u001b[0;32min\u001b[0m \u001b[0;34m[\u001b[0m\u001b[0;34m'SUCCEEDED'\u001b[0m\u001b[0;34m,\u001b[0m \u001b[0;34m'FAILED'\u001b[0m\u001b[0;34m,\u001b[0m \u001b[0;34m'CANCELLED'\u001b[0m\u001b[0;34m,\u001b[0m \u001b[0;34m'CANCELLING'\u001b[0m\u001b[0;34m]\u001b[0m\u001b[0;34m:\u001b[0m\u001b[0;34m\u001b[0m\u001b[0m\n\u001b[1;32m    157\u001b[0m         \u001b[0;32mreturn\u001b[0m \u001b[0mjob\u001b[0m\u001b[0;34m\u001b[0m\u001b[0m\n",
      "\u001b[0;31mAttributeError\u001b[0m: 'NoneType' object has no attribute 'get'"
     ]
    }
   ],
   "source": [
    "from running_average import submit_training_job\n",
    "reload(submit_training_job)\n",
    "now = datetime.datetime.now()\n",
    "datestamp = now.strftime(\"%Y%m%d_%H%M%S\")\n",
    "job_name=\"running_average_{0}\".format(datestamp)\n",
    "output_path = \"gs://{0}/running_average/{1}/output/results\".format(BUCKET, datestamp)\n",
    "main_args = [\"--train_data_path=gs://{0}/running_average/inputs.tfrecord\".format(BUCKET)]\n",
    "endpoint=\"https://cloudml-jlewi-test.sandbox.googleapis.com\"\n",
    "final_job = submit_training_job.submit_job(job_name, main_args, output_path, PROJECT, endpoint=endpoint)"
   ]
  }
 ],
 "metadata": {
  "kernelspec": {
   "display_name": "Python 2",
   "language": "python",
   "name": "python2"
  },
  "language_info": {
   "codemirror_mode": {
    "name": "ipython",
    "version": 2
   },
   "file_extension": ".py",
   "mimetype": "text/x-python",
   "name": "python",
   "nbconvert_exporter": "python",
   "pygments_lexer": "ipython2",
   "version": "2.7.9"
  }
 },
 "nbformat": 4,
 "nbformat_minor": 1
}
