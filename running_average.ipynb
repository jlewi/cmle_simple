{
 "cells": [
  {
   "cell_type": "markdown",
   "metadata": {},
   "source": [
    "## Setup"
   ]
  },
  {
   "cell_type": "code",
   "execution_count": 33,
   "metadata": {
    "collapsed": false
   },
   "outputs": [
    {
     "name": "stderr",
     "output_type": "stream",
     "text": [
      "WARNING:google.auth._default:No project ID could be determined from the Cloud SDK configuration. Consider running `gcloud config set project` or setting the GOOGLE_CLOUD_PROJECT environment variable\n"
     ]
    }
   ],
   "source": [
    "import datetime\n",
    "import logging\n",
    "import os\n",
    "import subprocess\n",
    "import time\n",
    "import google.cloud.storage as gcs\n",
    "\n",
    "from googleapiclient import discovery\n",
    "from googleapiclient import errors\n",
    "from googleapiclient import http\n",
    "\n",
    "BUCKET=\"dataflow-jlewi-cloud-ml\"\n",
    "PROJECT=\"dataflow-jlewi\"\n",
    "logging.getLogger().setLevel(logging.INFO)\n",
    "\n",
    "cloudml = discovery.build(\n",
    "      'ml',\n",
    "      'v1',\n",
    "      requestBuilder=http.HttpRequest)\n"
   ]
  },
  {
   "cell_type": "markdown",
   "metadata": {},
   "source": [
    "## Create Training Data"
   ]
  },
  {
   "cell_type": "code",
   "execution_count": null,
   "metadata": {
    "collapsed": false
   },
   "outputs": [],
   "source": [
    "# Make sure you're logged in and have credentials\n",
    "command = [\"python\", \"-m\", \"running_average.create_training_data\",\n",
    "           \"--output_path=gs://{0}/running_average/inputs.tfrecord\".format(BUCKET)]\n",
    "\n",
    "output = subprocess.check_output(command,stderr=subprocess.STDOUT)\n",
    "print output"
   ]
  },
  {
   "cell_type": "markdown",
   "metadata": {},
   "source": [
    "## Submit Training Job"
   ]
  },
  {
   "cell_type": "code",
   "execution_count": 21,
   "metadata": {
    "collapsed": false
   },
   "outputs": [
    {
     "name": "stderr",
     "output_type": "stream",
     "text": [
      "INFO:root:Setup file: /content/datalab/home/git_cmle_simple/setup.py\n",
      "INFO:root:Found packages: ['/tmp/tmp0zExRH/running_average-0.1.1.tar.gz']\n",
      "INFO:oauth2client.client:Attempting refresh to obtain initial access_token\n",
      "INFO:oauth2client.client:Refreshing access_token\n",
      "INFO:root:Copying /tmp/tmp0zExRH/running_average-0.1.1.tar.gz to gs://dataflow-jlewi-cloud-ml/running_average/20170826_182755/output/results/staging/running_average-0.1.1.tar.gz\n",
      "INFO:googleapiclient.discovery:URL being requested: POST https://ml.googleapis.com/v1/projects/dataflow-jlewi/jobs?alt=json\n",
      "INFO:oauth2client.client:Attempting refresh to obtain initial access_token\n",
      "INFO:oauth2client.client:Refreshing access_token\n",
      "INFO:root:Set response:\n",
      "{\n",
      "  \"createTime\": \"2017-08-26T18:27:57Z\",\n",
      "  \"jobId\": \"running_average_20170826_182755\",\n",
      "  \"state\": \"QUEUED\",\n",
      "  \"trainingInput\": {\n",
      "    \"args\": [\n",
      "      \"--train_data_path=gs://dataflow-jlewi-cloud-ml/running_average/inputs.tfrecord\",\n",
      "      \"--output_path=gs://dataflow-jlewi-cloud-ml/running_average/20170826_182755/output/results\"\n",
      "    ],\n",
      "    \"packageUris\": [\n",
      "      \"gs://dataflow-jlewi-cloud-ml/running_average/20170826_182755/output/results/staging/running_average-0.1.1.tar.gz\"\n",
      "    ],\n",
      "    \"pythonModule\": \"running_average.running_average_main\",\n",
      "    \"region\": \"us-central1\",\n",
      "    \"runtimeVersion\": \"1.2\",\n",
      "    \"scaleTier\": \"STANDARD_1\"\n",
      "  },\n",
      "  \"trainingOutput\": {}\n",
      "}\n"
     ]
    }
   ],
   "source": [
    "from running_average import submit_training_job\n",
    "reload(submit_training_job)\n",
    "now = datetime.datetime.now()\n",
    "datestamp = now.strftime(\"%Y%m%d_%H%M%S\")\n",
    "job_name=\"running_average_{0}\".format(datestamp)\n",
    "output_path = \"gs://{0}/running_average/{1}/output/results\".format(BUCKET, datestamp)\n",
    "main_args = [\"--train_data_path=gs://{0}/running_average/inputs.tfrecord\".format(BUCKET)]\n",
    "final_job = submit_training_job.submit_job(job_name, main_args, output_path, PROJECT)"
   ]
  },
  {
   "cell_type": "markdown",
   "metadata": {},
   "source": [
    "## Save Model For Serving"
   ]
  },
  {
   "cell_type": "code",
   "execution_count": 24,
   "metadata": {
    "collapsed": false
   },
   "outputs": [
    {
     "name": "stderr",
     "output_type": "stream",
     "text": [
      "INFO:root:Exporting the model to gs://dataflow-jlewi-cloud-ml/running_average/20170826_182755/saved_model\n",
      "INFO:root:Restoring weights from: gs://dataflow-jlewi-cloud-ml/running_average/20170826_182755/output/results/save_dir-5\n"
     ]
    },
    {
     "name": "stdout",
     "output_type": "stream",
     "text": [
      "INFO:tensorflow:Restoring parameters from gs://dataflow-jlewi-cloud-ml/running_average/20170826_182755/output/results/save_dir-5\n"
     ]
    },
    {
     "name": "stderr",
     "output_type": "stream",
     "text": [
      "INFO:tensorflow:Restoring parameters from gs://dataflow-jlewi-cloud-ml/running_average/20170826_182755/output/results/save_dir-5\n",
      "INFO:root:inputs: ParseExample/ParseExample:0\n"
     ]
    },
    {
     "name": "stdout",
     "output_type": "stream",
     "text": [
      "INFO:tensorflow:No assets to save.\n"
     ]
    },
    {
     "name": "stderr",
     "output_type": "stream",
     "text": [
      "INFO:tensorflow:No assets to save.\n"
     ]
    },
    {
     "name": "stdout",
     "output_type": "stream",
     "text": [
      "INFO:tensorflow:No assets to write.\n"
     ]
    },
    {
     "name": "stderr",
     "output_type": "stream",
     "text": [
      "INFO:tensorflow:No assets to write.\n"
     ]
    },
    {
     "name": "stdout",
     "output_type": "stream",
     "text": [
      "INFO:tensorflow:SavedModel written to: gs://dataflow-jlewi-cloud-ml/running_average/20170826_182755/saved_model/saved_model.pb\n"
     ]
    },
    {
     "name": "stderr",
     "output_type": "stream",
     "text": [
      "INFO:tensorflow:SavedModel written to: gs://dataflow-jlewi-cloud-ml/running_average/20170826_182755/saved_model/saved_model.pb\n"
     ]
    }
   ],
   "source": [
    "from running_average import build_saved_model\n",
    "reload(build_saved_model)\n",
    "saved_model = \"gs://{0}/running_average/{1}/saved_model\".format(BUCKET, datestamp)\n",
    "build_saved_model.save_model(output_path, saved_model)"
   ]
  },
  {
   "cell_type": "markdown",
   "metadata": {},
   "source": [
    "## Deploy the model"
   ]
  },
  {
   "cell_type": "code",
   "execution_count": 32,
   "metadata": {
    "collapsed": false
   },
   "outputs": [
    {
     "name": "stderr",
     "output_type": "stream",
     "text": [
      "WARNING:google.auth._default:No project ID could be determined from the Cloud SDK configuration. Consider running `gcloud config set project` or setting the GOOGLE_CLOUD_PROJECT environment variable\n",
      "INFO:googleapiclient.discovery:URL being requested: POST https://ml.googleapis.com/v1/projects/dataflow-jlewi/models?alt=json\n",
      "INFO:root:Model simple_cmle already exists.\n",
      "INFO:googleapiclient.discovery:URL being requested: POST https://ml.googleapis.com/v1/projects/dataflow-jlewi/models/simple_cmle/versions?alt=json\n",
      "INFO:root:Set response:\n",
      "{\n",
      "  \"metadata\": {\n",
      "    \"@type\": \"type.googleapis.com/google.cloud.ml.v1.OperationMetadata\",\n",
      "    \"createTime\": \"2017-08-26T23:23:26Z\",\n",
      "    \"modelName\": \"projects/dataflow-jlewi/models/simple_cmle\",\n",
      "    \"operationType\": \"CREATE_VERSION\",\n",
      "    \"version\": {\n",
      "      \"createTime\": \"2017-08-26T23:23:26Z\",\n",
      "      \"deploymentUri\": \"gs://dataflow-jlewi-cloud-ml/running_average/20170826_182755/saved_model\",\n",
      "      \"etag\": \"RodNWVB0IDY=\",\n",
      "      \"name\": \"projects/dataflow-jlewi/models/simple_cmle/versions/v20170826_232324\",\n",
      "      \"state\": \"CREATING\"\n",
      "    }\n",
      "  },\n",
      "  \"name\": \"projects/dataflow-jlewi/operations/create_simple_cmle_v20170826_232324-1503789806819\"\n",
      "}\n"
     ]
    }
   ],
   "source": [
    "endpoint = None\n",
    "model_name = \"simple_cmle\"\n",
    "model_path = \"gs://dataflow-jlewi-cloud-ml/running_average/20170826_182755/saved_model\"\n",
    "\n",
    "now = datetime.datetime.now()\n",
    "datestamp = now.strftime(\"%Y%m%d_%H%M%S\")\n",
    "model_version = 'v' + datestamp\n",
    "\n",
    "deploy_model.deploy(PROJECT, model_path, model_name, model_version)\n"
   ]
  },
  {
   "cell_type": "markdown",
   "metadata": {},
   "source": [
    "## Send some predictions"
   ]
  },
  {
   "cell_type": "code",
   "execution_count": 38,
   "metadata": {
    "collapsed": false
   },
   "outputs": [
    {
     "name": "stderr",
     "output_type": "stream",
     "text": [
      "INFO:googleapiclient.discovery:URL being requested: POST https://ml.googleapis.com/v1/projects/dataflow-jlewi/models/simple_cmle/versions/v20170826_232324:predict?alt=json\n",
      "INFO:root:Set response:\n",
      "{\n",
      "  \"predictions\": [\n",
      "    {\n",
      "      \"outputs\": [\n",
      "        4.883837699890137\n",
      "      ]\n",
      "    },\n",
      "    {\n",
      "      \"outputs\": [\n",
      "        9.883837699890137\n",
      "      ]\n",
      "    }\n",
      "  ]\n",
      "}\n"
     ]
    }
   ],
   "source": [
    "from running_average import util\n",
    "projects = cloudml.projects()\n",
    "\n",
    "body = {\n",
    "  'instances' : [\n",
    "    {\n",
    "      'inputs': [10],\n",
    "    },\n",
    "    {\n",
    "      'inputs': [15],\n",
    "    }\n",
    "  ],\n",
    "}\n",
    "request = projects.predict(name='projects/{0}/models/{1}/versions/{2}'.format(PROJECT, model_name, model_version),\n",
    "                           body=body)\n",
    "\n",
    "response = request.execute()\n",
    "logging.info('Set response:\\n%s', util.PrettyFormat(response))"
   ]
  }
 ],
 "metadata": {
  "kernelspec": {
   "display_name": "Python 2",
   "language": "python",
   "name": "python2"
  },
  "language_info": {
   "codemirror_mode": {
    "name": "ipython",
    "version": 2
   },
   "file_extension": ".py",
   "mimetype": "text/x-python",
   "name": "python",
   "nbconvert_exporter": "python",
   "pygments_lexer": "ipython2",
   "version": "2.7.12"
  }
 },
 "nbformat": 4,
 "nbformat_minor": 1
}
