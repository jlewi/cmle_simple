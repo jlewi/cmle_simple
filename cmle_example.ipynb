{
 "cells": [
  {
   "cell_type": "markdown",
   "metadata": {},
   "source": [
    "<h1 id=\"tocheading\">Table of Contents</h1>\n",
    "<div id=\"toc\"></div>"
   ]
  },
  {
   "cell_type": "code",
   "execution_count": 7,
   "metadata": {
    "collapsed": false
   },
   "outputs": [
    {
     "data": {
      "application/javascript": [
       "$.getScript('https://kmahelona.github.io/ipython_notebook_goodies/ipython_notebook_toc.js')"
      ],
      "text/plain": [
       "<IPython.core.display.Javascript object>"
      ]
     },
     "metadata": {},
     "output_type": "display_data"
    }
   ],
   "source": [
    "%%javascript\n",
    "$.getScript('https://kmahelona.github.io/ipython_notebook_goodies/ipython_notebook_toc.js')"
   ]
  },
  {
   "cell_type": "markdown",
   "metadata": {},
   "source": [
    "## Setup"
   ]
  },
  {
   "cell_type": "code",
   "execution_count": 19,
   "metadata": {
    "collapsed": false
   },
   "outputs": [],
   "source": [
    "import datetime\n",
    "import logging\n",
    "import os\n",
    "import subprocess\n",
    "import time\n",
    "import google.cloud.storage as gcs\n",
    "\n",
    "from googleapiclient import discovery\n",
    "from googleapiclient import errors\n",
    "from googleapiclient import http\n",
    "\n",
    "BUCKET=\"dataflow-jlewi-cloud-ml\"\n",
    "PROJECT=\"dataflow-jlewi\"\n",
    "CLUSTER=\"cmle-example\"\n",
    "ZONE=\"us-central1-f\"\n",
    "logging.getLogger().setLevel(logging.INFO)\n",
    "\n",
    "cloudml = discovery.build(\n",
    "      'ml',\n",
    "      'v1',\n",
    "      requestBuilder=http.HttpRequest)\n"
   ]
  },
  {
   "cell_type": "markdown",
   "metadata": {},
   "source": [
    "## Create Training Data"
   ]
  },
  {
   "cell_type": "code",
   "execution_count": 3,
   "metadata": {
    "collapsed": false
   },
   "outputs": [
    {
     "name": "stdout",
     "output_type": "stream",
     "text": [
      "INFO:root:Creating data\n",
      "INFO:root:Creating example: 1\n",
      "INFO:root:Creating example: 2\n",
      "INFO:root:Creating example: 3\n",
      "INFO:root:Creating example: 4\n",
      "INFO:root:Creating example: 5\n",
      "INFO:root:Creating example: 6\n",
      "INFO:root:Creating example: 7\n",
      "INFO:root:Creating example: 8\n",
      "INFO:root:Creating example: 9\n",
      "INFO:root:Creating example: 10\n",
      "INFO:root:Creating example: 11\n",
      "INFO:root:Creating example: 12\n",
      "INFO:root:Creating example: 13\n",
      "INFO:root:Creating example: 14\n",
      "INFO:root:Creating example: 15\n",
      "INFO:root:Creating example: 16\n",
      "INFO:root:Creating example: 17\n",
      "INFO:root:Creating example: 18\n",
      "INFO:root:Creating example: 19\n",
      "INFO:root:Creating example: 20\n",
      "INFO:root:Creating example: 21\n",
      "INFO:root:Creating example: 22\n",
      "INFO:root:Creating example: 23\n",
      "INFO:root:Creating example: 24\n",
      "INFO:root:Creating example: 25\n",
      "INFO:root:Creating example: 26\n",
      "INFO:root:Creating example: 27\n",
      "INFO:root:Creating example: 28\n",
      "INFO:root:Creating example: 29\n",
      "INFO:root:Creating example: 30\n",
      "INFO:root:Creating example: 31\n",
      "INFO:root:Creating example: 32\n",
      "INFO:root:Creating example: 33\n",
      "INFO:root:Creating example: 34\n",
      "INFO:root:Creating example: 35\n",
      "INFO:root:Creating example: 36\n",
      "INFO:root:Creating example: 37\n",
      "INFO:root:Creating example: 38\n",
      "INFO:root:Creating example: 39\n",
      "INFO:root:Creating example: 40\n",
      "INFO:root:Creating example: 41\n",
      "INFO:root:Creating example: 42\n",
      "INFO:root:Creating example: 43\n",
      "INFO:root:Creating example: 44\n",
      "INFO:root:Creating example: 45\n",
      "INFO:root:Creating example: 46\n",
      "INFO:root:Creating example: 47\n",
      "INFO:root:Creating example: 48\n",
      "INFO:root:Creating example: 49\n",
      "INFO:root:Creating example: 50\n",
      "INFO:root:Creating example: 51\n",
      "INFO:root:Creating example: 52\n",
      "INFO:root:Creating example: 53\n",
      "INFO:root:Creating example: 54\n",
      "INFO:root:Creating example: 55\n",
      "INFO:root:Creating example: 56\n",
      "INFO:root:Creating example: 57\n",
      "INFO:root:Creating example: 58\n",
      "INFO:root:Creating example: 59\n",
      "INFO:root:Creating example: 60\n",
      "INFO:root:Creating example: 61\n",
      "INFO:root:Creating example: 62\n",
      "INFO:root:Creating example: 63\n",
      "INFO:root:Creating example: 64\n",
      "INFO:root:Creating example: 65\n",
      "INFO:root:Creating example: 66\n",
      "INFO:root:Creating example: 67\n",
      "INFO:root:Creating example: 68\n",
      "INFO:root:Creating example: 69\n",
      "INFO:root:Creating example: 70\n",
      "INFO:root:Creating example: 71\n",
      "INFO:root:Creating example: 72\n",
      "INFO:root:Creating example: 73\n",
      "INFO:root:Creating example: 74\n",
      "INFO:root:Creating example: 75\n",
      "INFO:root:Creating example: 76\n",
      "INFO:root:Creating example: 77\n",
      "INFO:root:Creating example: 78\n",
      "INFO:root:Creating example: 79\n",
      "INFO:root:Creating example: 80\n",
      "INFO:root:Creating example: 81\n",
      "INFO:root:Creating example: 82\n",
      "INFO:root:Creating example: 83\n",
      "INFO:root:Creating example: 84\n",
      "INFO:root:Creating example: 85\n",
      "INFO:root:Creating example: 86\n",
      "INFO:root:Creating example: 87\n",
      "INFO:root:Creating example: 88\n",
      "INFO:root:Creating example: 89\n",
      "INFO:root:Creating example: 90\n",
      "INFO:root:Creating example: 91\n",
      "INFO:root:Creating example: 92\n",
      "INFO:root:Creating example: 93\n",
      "INFO:root:Creating example: 94\n",
      "INFO:root:Creating example: 95\n",
      "INFO:root:Creating example: 96\n",
      "INFO:root:Creating example: 97\n",
      "INFO:root:Creating example: 98\n",
      "INFO:root:Creating example: 99\n",
      "INFO:root:Creating example: 100\n",
      "INFO:root:Writing to file\n",
      "INFO:root:Appending record 0\n",
      "INFO:root:Appending record 1\n",
      "INFO:root:Appending record 2\n",
      "INFO:root:Appending record 3\n",
      "INFO:root:Appending record 4\n",
      "INFO:root:Appending record 5\n",
      "INFO:root:Appending record 6\n",
      "INFO:root:Appending record 7\n",
      "INFO:root:Appending record 8\n",
      "INFO:root:Appending record 9\n",
      "INFO:root:Appending record 10\n",
      "INFO:root:Appending record 11\n",
      "INFO:root:Appending record 12\n",
      "INFO:root:Appending record 13\n",
      "INFO:root:Appending record 14\n",
      "INFO:root:Appending record 15\n",
      "INFO:root:Appending record 16\n",
      "INFO:root:Appending record 17\n",
      "INFO:root:Appending record 18\n",
      "INFO:root:Appending record 19\n",
      "INFO:root:Appending record 20\n",
      "INFO:root:Appending record 21\n",
      "INFO:root:Appending record 22\n",
      "INFO:root:Appending record 23\n",
      "INFO:root:Appending record 24\n",
      "INFO:root:Appending record 25\n",
      "INFO:root:Appending record 26\n",
      "INFO:root:Appending record 27\n",
      "INFO:root:Appending record 28\n",
      "INFO:root:Appending record 29\n",
      "INFO:root:Appending record 30\n",
      "INFO:root:Appending record 31\n",
      "INFO:root:Appending record 32\n",
      "INFO:root:Appending record 33\n",
      "INFO:root:Appending record 34\n",
      "INFO:root:Appending record 35\n",
      "INFO:root:Appending record 36\n",
      "INFO:root:Appending record 37\n",
      "INFO:root:Appending record 38\n",
      "INFO:root:Appending record 39\n",
      "INFO:root:Appending record 40\n",
      "INFO:root:Appending record 41\n",
      "INFO:root:Appending record 42\n",
      "INFO:root:Appending record 43\n",
      "INFO:root:Appending record 44\n",
      "INFO:root:Appending record 45\n",
      "INFO:root:Appending record 46\n",
      "INFO:root:Appending record 47\n",
      "INFO:root:Appending record 48\n",
      "INFO:root:Appending record 49\n",
      "INFO:root:Appending record 50\n",
      "INFO:root:Appending record 51\n",
      "INFO:root:Appending record 52\n",
      "INFO:root:Appending record 53\n",
      "INFO:root:Appending record 54\n",
      "INFO:root:Appending record 55\n",
      "INFO:root:Appending record 56\n",
      "INFO:root:Appending record 57\n",
      "INFO:root:Appending record 58\n",
      "INFO:root:Appending record 59\n",
      "INFO:root:Appending record 60\n",
      "INFO:root:Appending record 61\n",
      "INFO:root:Appending record 62\n",
      "INFO:root:Appending record 63\n",
      "INFO:root:Appending record 64\n",
      "INFO:root:Appending record 65\n",
      "INFO:root:Appending record 66\n",
      "INFO:root:Appending record 67\n",
      "INFO:root:Appending record 68\n",
      "INFO:root:Appending record 69\n",
      "INFO:root:Appending record 70\n",
      "INFO:root:Appending record 71\n",
      "INFO:root:Appending record 72\n",
      "INFO:root:Appending record 73\n",
      "INFO:root:Appending record 74\n",
      "INFO:root:Appending record 75\n",
      "INFO:root:Appending record 76\n",
      "INFO:root:Appending record 77\n",
      "INFO:root:Appending record 78\n",
      "INFO:root:Appending record 79\n",
      "INFO:root:Appending record 80\n",
      "INFO:root:Appending record 81\n",
      "INFO:root:Appending record 82\n",
      "INFO:root:Appending record 83\n",
      "INFO:root:Appending record 84\n",
      "INFO:root:Appending record 85\n",
      "INFO:root:Appending record 86\n",
      "INFO:root:Appending record 87\n",
      "INFO:root:Appending record 88\n",
      "INFO:root:Appending record 89\n",
      "INFO:root:Appending record 90\n",
      "INFO:root:Appending record 91\n",
      "INFO:root:Appending record 92\n",
      "INFO:root:Appending record 93\n",
      "INFO:root:Appending record 94\n",
      "INFO:root:Appending record 95\n",
      "INFO:root:Appending record 96\n",
      "INFO:root:Appending record 97\n",
      "INFO:root:Appending record 98\n",
      "INFO:root:Appending record 99\n",
      "INFO:root:Data written to: gs://dataflow-jlewi-cloud-ml/running_average/inputs.tfrecord\n",
      "\n"
     ]
    }
   ],
   "source": [
    "# Make sure you're logged in and have credentials\n",
    "command = [\"python\", \"-m\", \"cmle_example.create_training_data\",\n",
    "           \"--output_path=gs://{0}/running_average/inputs.tfrecord\".format(BUCKET)]\n",
    "\n",
    "output = subprocess.check_output(command,stderr=subprocess.STDOUT)\n",
    "print output"
   ]
  },
  {
   "cell_type": "markdown",
   "metadata": {},
   "source": [
    "## Submit Training Job"
   ]
  },
  {
   "cell_type": "code",
   "execution_count": 5,
   "metadata": {
    "collapsed": false
   },
   "outputs": [
    {
     "name": "stderr",
     "output_type": "stream",
     "text": [
      "INFO:root:Setup file: /content/datalab/home/git_cmle_simple/setup.py\n",
      "INFO:root:Found packages: ['/tmp/tmpfaaWGQ/cmle_example-0.1.1.tar.gz']\n",
      "INFO:oauth2client.client:Attempting refresh to obtain initial access_token\n",
      "INFO:oauth2client.client:Refreshing access_token\n",
      "INFO:root:Copying /tmp/tmpfaaWGQ/cmle_example-0.1.1.tar.gz to gs://dataflow-jlewi-cloud-ml/running_average/20170827_224405/output/results/staging/cmle_example-0.1.1.tar.gz\n",
      "INFO:googleapiclient.discovery:URL being requested: POST https://ml.googleapis.com/v1/projects/dataflow-jlewi/jobs?alt=json\n",
      "INFO:oauth2client.client:Attempting refresh to obtain initial access_token\n",
      "INFO:oauth2client.client:Refreshing access_token\n",
      "INFO:root:Set response:\n",
      "{\n",
      "  \"createTime\": \"2017-08-27T22:44:13Z\",\n",
      "  \"jobId\": \"cmle_example_20170827_224405\",\n",
      "  \"state\": \"QUEUED\",\n",
      "  \"trainingInput\": {\n",
      "    \"args\": [\n",
      "      \"--train_data_path=gs://dataflow-jlewi-cloud-ml/running_average/inputs.tfrecord\",\n",
      "      \"--output_path=gs://dataflow-jlewi-cloud-ml/running_average/20170827_224405/output/results\"\n",
      "    ],\n",
      "    \"packageUris\": [\n",
      "      \"gs://dataflow-jlewi-cloud-ml/running_average/20170827_224405/output/results/staging/cmle_example-0.1.1.tar.gz\"\n",
      "    ],\n",
      "    \"pythonModule\": \"cmle_example.train\",\n",
      "    \"region\": \"us-central1\",\n",
      "    \"runtimeVersion\": \"1.2\",\n",
      "    \"scaleTier\": \"STANDARD_1\"\n",
      "  },\n",
      "  \"trainingOutput\": {}\n",
      "}\n"
     ]
    }
   ],
   "source": [
    "from cmle_example import submit_training_job\n",
    "reload(submit_training_job)\n",
    "now = datetime.datetime.now()\n",
    "datestamp = now.strftime(\"%Y%m%d_%H%M%S\")\n",
    "job_name=\"cmle_example_{0}\".format(datestamp)\n",
    "output_path = \"gs://{0}/running_average/{1}/output/results\".format(BUCKET, datestamp)\n",
    "main_args = [\"--train_data_path=gs://{0}/running_average/inputs.tfrecord\".format(BUCKET)]\n",
    "final_job = submit_training_job.submit_job(job_name, main_args, output_path, PROJECT)"
   ]
  },
  {
   "cell_type": "markdown",
   "metadata": {},
   "source": [
    "## Save Model For Serving"
   ]
  },
  {
   "cell_type": "code",
   "execution_count": 8,
   "metadata": {
    "collapsed": false
   },
   "outputs": [
    {
     "name": "stderr",
     "output_type": "stream",
     "text": [
      "INFO:root:Exporting the model to gs://dataflow-jlewi-cloud-ml/cmle_example/20170827_224405/saved_model\n",
      "INFO:root:Restoring weights from: gs://dataflow-jlewi-cloud-ml/running_average/20170827_224405/output/results/save_dir-5\n"
     ]
    },
    {
     "name": "stdout",
     "output_type": "stream",
     "text": [
      "INFO:tensorflow:Restoring parameters from gs://dataflow-jlewi-cloud-ml/running_average/20170827_224405/output/results/save_dir-5\n"
     ]
    },
    {
     "name": "stderr",
     "output_type": "stream",
     "text": [
      "INFO:tensorflow:Restoring parameters from gs://dataflow-jlewi-cloud-ml/running_average/20170827_224405/output/results/save_dir-5\n",
      "INFO:root:inputs: ParseExample/ParseExample:0\n"
     ]
    },
    {
     "name": "stdout",
     "output_type": "stream",
     "text": [
      "INFO:tensorflow:No assets to save.\n"
     ]
    },
    {
     "name": "stderr",
     "output_type": "stream",
     "text": [
      "INFO:tensorflow:No assets to save.\n"
     ]
    },
    {
     "name": "stdout",
     "output_type": "stream",
     "text": [
      "INFO:tensorflow:No assets to write.\n"
     ]
    },
    {
     "name": "stderr",
     "output_type": "stream",
     "text": [
      "INFO:tensorflow:No assets to write.\n"
     ]
    },
    {
     "name": "stdout",
     "output_type": "stream",
     "text": [
      "INFO:tensorflow:SavedModel written to: gs://dataflow-jlewi-cloud-ml/cmle_example/20170827_224405/saved_model/saved_model.pb\n"
     ]
    },
    {
     "name": "stderr",
     "output_type": "stream",
     "text": [
      "INFO:tensorflow:SavedModel written to: gs://dataflow-jlewi-cloud-ml/cmle_example/20170827_224405/saved_model/saved_model.pb\n"
     ]
    }
   ],
   "source": [
    "from cmle_example import build_saved_model\n",
    "reload(build_saved_model)\n",
    "saved_model = \"gs://{0}/cmle_example/{1}/saved_model\".format(BUCKET, datestamp)\n",
    "build_saved_model.save_model(output_path, saved_model)"
   ]
  },
  {
   "cell_type": "markdown",
   "metadata": {},
   "source": [
    "## Deploy the model"
   ]
  },
  {
   "cell_type": "code",
   "execution_count": 10,
   "metadata": {
    "collapsed": false
   },
   "outputs": [
    {
     "name": "stderr",
     "output_type": "stream",
     "text": [
      "WARNING:google.auth._default:No project ID could be determined from the Cloud SDK configuration. Consider running `gcloud config set project` or setting the GOOGLE_CLOUD_PROJECT environment variable\n",
      "INFO:googleapiclient.discovery:URL being requested: POST https://ml.googleapis.com/v1/projects/dataflow-jlewi/models?alt=json\n",
      "INFO:root:Model simple_cmle already exists.\n",
      "INFO:googleapiclient.discovery:URL being requested: POST https://ml.googleapis.com/v1/projects/dataflow-jlewi/models/simple_cmle/versions?alt=json\n",
      "INFO:root:Set response:\n",
      "{\n",
      "  \"metadata\": {\n",
      "    \"@type\": \"type.googleapis.com/google.cloud.ml.v1.OperationMetadata\",\n",
      "    \"createTime\": \"2017-08-27T22:47:28Z\",\n",
      "    \"modelName\": \"projects/dataflow-jlewi/models/simple_cmle\",\n",
      "    \"operationType\": \"CREATE_VERSION\",\n",
      "    \"version\": {\n",
      "      \"createTime\": \"2017-08-27T22:47:28Z\",\n",
      "      \"deploymentUri\": \"gs://dataflow-jlewi-cloud-ml/cmle_example/20170827_224405/saved_model\",\n",
      "      \"etag\": \"sDkb0ns6t8c=\",\n",
      "      \"name\": \"projects/dataflow-jlewi/models/simple_cmle/versions/v20170827_224726\",\n",
      "      \"state\": \"CREATING\"\n",
      "    }\n",
      "  },\n",
      "  \"name\": \"projects/dataflow-jlewi/operations/create_simple_cmle_v20170827_224726-1503874048610\"\n",
      "}\n"
     ]
    },
    {
     "data": {
      "text/plain": [
       "{u'metadata': {u'@type': u'type.googleapis.com/google.cloud.ml.v1.OperationMetadata',\n",
       "  u'createTime': u'2017-08-27T22:47:28Z',\n",
       "  u'modelName': u'projects/dataflow-jlewi/models/simple_cmle',\n",
       "  u'operationType': u'CREATE_VERSION',\n",
       "  u'version': {u'createTime': u'2017-08-27T22:47:28Z',\n",
       "   u'deploymentUri': u'gs://dataflow-jlewi-cloud-ml/cmle_example/20170827_224405/saved_model',\n",
       "   u'etag': u'sDkb0ns6t8c=',\n",
       "   u'name': u'projects/dataflow-jlewi/models/simple_cmle/versions/v20170827_224726',\n",
       "   u'state': u'CREATING'}},\n",
       " u'name': u'projects/dataflow-jlewi/operations/create_simple_cmle_v20170827_224726-1503874048610'}"
      ]
     },
     "execution_count": 10,
     "metadata": {},
     "output_type": "execute_result"
    }
   ],
   "source": [
    "from cmle_example import deploy_model\n",
    "reload(deploy_model)\n",
    "endpoint = None\n",
    "model_name = \"simple_cmle\"\n",
    "model_path = saved_model\n",
    "\n",
    "now = datetime.datetime.now()\n",
    "datestamp = now.strftime(\"%Y%m%d_%H%M%S\")\n",
    "model_version = 'v' + datestamp\n",
    "\n",
    "deploy_model.deploy(PROJECT, model_path, model_name, model_version)\n"
   ]
  },
  {
   "cell_type": "markdown",
   "metadata": {},
   "source": [
    "## Send some predictions"
   ]
  },
  {
   "cell_type": "code",
   "execution_count": 13,
   "metadata": {
    "collapsed": false
   },
   "outputs": [
    {
     "name": "stderr",
     "output_type": "stream",
     "text": [
      "INFO:googleapiclient.discovery:URL being requested: POST https://ml.googleapis.com/v1/projects/dataflow-jlewi/models/simple_cmle/versions/v20170827_224726:predict?alt=json\n",
      "INFO:root:Set response:\n",
      "{\n",
      "  \"predictions\": [\n",
      "    {\n",
      "      \"outputs\": [\n",
      "        4.7497453689575195\n",
      "      ]\n",
      "    },\n",
      "    {\n",
      "      \"outputs\": [\n",
      "        9.74974536895752\n",
      "      ]\n",
      "    }\n",
      "  ]\n",
      "}\n"
     ]
    }
   ],
   "source": [
    "from cmle_example import util\n",
    "projects = cloudml.projects()\n",
    "\n",
    "body = {\n",
    "  'instances' : [\n",
    "    {\n",
    "      'inputs': [10],\n",
    "    },\n",
    "    {\n",
    "      'inputs': [15],\n",
    "    }\n",
    "  ],\n",
    "}\n",
    "request = projects.predict(name='projects/{0}/models/{1}/versions/{2}'.format(PROJECT, model_name, model_version),\n",
    "                           body=body)\n",
    "\n",
    "response = request.execute()\n",
    "logging.info('Set response:\\n%s', util.PrettyFormat(response))"
   ]
  },
  {
   "cell_type": "markdown",
   "metadata": {},
   "source": [
    "## Setup The API using Cloud Endpoints\n",
    "\n",
    "**Important** these commands assume you are running in a Datalab container which has prerequisites like the protoc compiler installed.\n",
    "\n",
    "[Instructions](https://cloud.google.com/endpoints/docs/grpc/get-started-grpc-container-engine) for deploying a GRPC API\n",
    "[Bookstore Example Kubernetes Config on GitHub](https://github.com/GoogleCloudPlatform/python-docs-samples/tree/master/endpoints/kubernetes)\n",
    "[Bookstore Client/Server Code On Github](https://github.com/GoogleCloudPlatform/python-docs-samples/tree/master/endpoints/bookstore-grpc)"
   ]
  },
  {
   "cell_type": "code",
   "execution_count": 14,
   "metadata": {
    "collapsed": false
   },
   "outputs": [],
   "source": [
    "!protoc --include_imports --include_source_info ./api/cmle_example.proto --descriptor_set_out ./api/out.pb"
   ]
  },
  {
   "cell_type": "code",
   "execution_count": 16,
   "metadata": {
    "collapsed": false
   },
   "outputs": [
    {
     "name": "stdout",
     "output_type": "stream",
     "text": [
      "Waiting for async operation operations/serviceConfigs.cmle.example.endpoints.dataflow-jlewi.cloud.goog:78e01178-afa0-4ef8-a2d4-c4a3777da2fd to complete...\n",
      "Operation finished successfully. The following command can describe the Operation details:\n",
      " gcloud service-management operations describe operations/serviceConfigs.cmle.example.endpoints.dataflow-jlewi.cloud.goog:78e01178-afa0-4ef8-a2d4-c4a3777da2fd\n",
      "Waiting for async operation operations/rollouts.cmle.example.endpoints.dataflow-jlewi.cloud.goog:2017-08-28r0 to complete...\n",
      "Operation finished successfully. The following command can describe the Operation details:\n",
      " gcloud service-management operations describe operations/rollouts.cmle.example.endpoints.dataflow-jlewi.cloud.goog:2017-08-28r0\n",
      "Enabling service cmle.example.endpoints.dataflow-jlewi.cloud.goog on project dataflow-jlewi...\n",
      "Waiting for async operation operations/projectSettings.c214d061-7621-4a39-b9e7-d1f97ff5ac80 to complete...\n",
      "Operation finished successfully. The following command can describe the Operation details:\n",
      " gcloud service-management operations describe operations/projectSettings.c214d061-7621-4a39-b9e7-d1f97ff5ac80\n",
      "\n",
      "Service Configuration [2017-08-28r0] uploaded for service [cmle.example.endpoints.dataflow-jlewi.cloud.goog]\n",
      "\n",
      "To manage your API, go to: https://console.cloud.google.com/endpoints/api/cmle.example.endpoints.dataflow-jlewi.cloud.goog/overview?project=dataflow-jlewi\n",
      "\n",
      "\n",
      "Updates are available for some Cloud SDK components.  To install them,\n",
      "please run:\n",
      "  $ gcloud components update\n",
      "\n"
     ]
    }
   ],
   "source": [
    "!gcloud service-management deploy --project={PROJECT} ./api/out.pb ./api/api_config.yaml"
   ]
  },
  {
   "cell_type": "markdown",
   "metadata": {},
   "source": [
    "## Deploy the Backend"
   ]
  },
  {
   "cell_type": "code",
   "execution_count": 22,
   "metadata": {
    "collapsed": false
   },
   "outputs": [
    {
     "name": "stdout",
     "output_type": "stream",
     "text": [
      "Creating cluster cmle-example...done.\n",
      "Created [https://container.googleapis.com/v1/projects/dataflow-jlewi/zones/us-central1-f/clusters/cmle-example].\n",
      "kubeconfig entry generated for cmle-example.\n",
      "NAME          ZONE           MASTER_VERSION  MASTER_IP      MACHINE_TYPE   NODE_VERSION  NUM_NODES  STATUS\n",
      "cmle-example  us-central1-f  1.6.7           104.198.34.35  n1-standard-8  1.6.7         2          RUNNING\n"
     ]
    }
   ],
   "source": [
    "## Create a kubernetes cluster.\n",
    "!gcloud container clusters create {CLUSTER} \\\n",
    "   --zone={ZONE} --scopes=https://www.googleapis.com/auth/cloud-platform  \\\n",
    "        --num-nodes=2  --project={PROJECT}  --machine-type=n1-standard-8"
   ]
  }
 ],
 "metadata": {
  "kernelspec": {
   "display_name": "Python 2",
   "language": "python",
   "name": "python2"
  },
  "language_info": {
   "codemirror_mode": {
    "name": "ipython",
    "version": 2
   },
   "file_extension": ".py",
   "mimetype": "text/x-python",
   "name": "python",
   "nbconvert_exporter": "python",
   "pygments_lexer": "ipython2",
   "version": "2.7.12"
  }
 },
 "nbformat": 4,
 "nbformat_minor": 1
}
